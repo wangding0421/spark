{
 "cells": [
  {
   "cell_type": "markdown",
   "metadata": {},
   "source": [
    "### Linear Regression - Interpreting the result\n",
    "In this notebook we use linear regression to predict the coefficients corresponding to the top eigenvectors of the measurements:\n",
    "* TAVG: The average temperature for day/location. (TMAX + TMIN)/2\n",
    "* TRANGE: The temperature range between the highest and lowest temperatures of the day. TMAX-TMIN.\n",
    "* SNWD: The depth of the accumulated snow.\n",
    "\n",
    "These 9 variables are the output variables that we aim to predict.\n",
    "\n",
    "The 4 input variables we use for the regression are properties of the location of the station:\n",
    "* latitude, longitude: location of the station.\n",
    "* elevation: the elevation of the location above sea level.\n",
    "* dist_coast: the distance of the station from the coast (in kilometers)."
   ]
  },
  {
   "cell_type": "markdown",
   "metadata": {},
   "source": [
    "### Read and parse the data"
   ]
  },
  {
   "cell_type": "code",
   "execution_count": 1,
   "metadata": {
    "collapsed": false
   },
   "outputs": [
    {
     "name": "stdout",
     "output_type": "stream",
     "text": [
      "ls: *.pickle: No such file or directory\r\n"
     ]
    }
   ],
   "source": [
    "import pickle\n",
    "import pandas as pd\n",
    "!ls *.pickle  # check "
   ]
  },
  {
   "cell_type": "code",
   "execution_count": 2,
   "metadata": {
    "collapsed": false
   },
   "outputs": [
    {
     "name": "stdout",
     "output_type": "stream",
     "text": [
      "  % Total    % Received % Xferd  Average Speed   Time    Time     Time  Current\n",
      "                                 Dload  Upload   Total   Spent    Left  Speed\n",
      "100 2750k  100 2750k    0     0  1932k      0  0:00:01  0:00:01 --:--:-- 1931k\n"
     ]
    }
   ],
   "source": [
    "!curl -o \"stations_projections.pickle\" \"http://mas-dse-open.s3.amazonaws.com/Weather/stations_projections.pickle\""
   ]
  },
  {
   "cell_type": "code",
   "execution_count": 14,
   "metadata": {
    "collapsed": false,
    "scrolled": true
   },
   "outputs": [
    {
     "data": {
      "text/plain": [
       "(12140, 8)"
      ]
     },
     "execution_count": 14,
     "metadata": {},
     "output_type": "execute_result"
    }
   ],
   "source": [
    "data = pickle.load(open(\"stations_projections.pickle\",'r'))\n",
    "data.shape"
   ]
  },
  {
   "cell_type": "code",
   "execution_count": 15,
   "metadata": {
    "collapsed": false
   },
   "outputs": [
    {
     "data": {
      "text/html": [
       "<div>\n",
       "<table border=\"1\" class=\"dataframe\">\n",
       "  <thead>\n",
       "    <tr style=\"text-align: right;\">\n",
       "      <th></th>\n",
       "      <th>station</th>\n",
       "      <th>TAVG_coeff</th>\n",
       "      <th>TRANGE_coeff</th>\n",
       "      <th>SNWD_coeff</th>\n",
       "      <th>latitude</th>\n",
       "      <th>longitude</th>\n",
       "      <th>elevation</th>\n",
       "      <th>dist_coast</th>\n",
       "    </tr>\n",
       "  </thead>\n",
       "  <tbody>\n",
       "    <tr>\n",
       "      <th>0</th>\n",
       "      <td>USC00044534</td>\n",
       "      <td>[3047.96236332, 1974.34852034, 150.560792408]</td>\n",
       "      <td>[-2903.63287861, -236.907267527, 147.021790682]</td>\n",
       "      <td>[0.19150300062, 0.187262808215, -0.0401379552536]</td>\n",
       "      <td>36.0042</td>\n",
       "      <td>-119.96</td>\n",
       "      <td>73.2</td>\n",
       "      <td>107.655</td>\n",
       "    </tr>\n",
       "  </tbody>\n",
       "</table>\n",
       "</div>"
      ],
      "text/plain": [
       "       station                                     TAVG_coeff  \\\n",
       "0  USC00044534  [3047.96236332, 1974.34852034, 150.560792408]   \n",
       "\n",
       "                                      TRANGE_coeff  \\\n",
       "0  [-2903.63287861, -236.907267527, 147.021790682]   \n",
       "\n",
       "                                          SNWD_coeff  latitude  longitude  \\\n",
       "0  [0.19150300062, 0.187262808215, -0.0401379552536]   36.0042    -119.96   \n",
       "\n",
       "   elevation  dist_coast  \n",
       "0       73.2     107.655  "
      ]
     },
     "execution_count": 15,
     "metadata": {},
     "output_type": "execute_result"
    }
   ],
   "source": [
    "data.head(1)"
   ]
  },
  {
   "cell_type": "code",
   "execution_count": 16,
   "metadata": {
    "collapsed": false
   },
   "outputs": [
    {
     "data": {
      "text/html": [
       "<div>\n",
       "<table border=\"1\" class=\"dataframe\">\n",
       "  <thead>\n",
       "    <tr style=\"text-align: right;\">\n",
       "      <th></th>\n",
       "      <th>latitude</th>\n",
       "      <th>longitude</th>\n",
       "      <th>elevation</th>\n",
       "      <th>dist_coast</th>\n",
       "      <th>TAVG_coeff1</th>\n",
       "      <th>TAVG_coeff2</th>\n",
       "      <th>TAVG_coeff3</th>\n",
       "      <th>TRANGE_coeff1</th>\n",
       "      <th>TRANGE_coeff2</th>\n",
       "      <th>TRANGE_coeff3</th>\n",
       "      <th>SNWD_coeff1</th>\n",
       "      <th>SNWD_coeff2</th>\n",
       "      <th>SNWD_coeff3</th>\n",
       "    </tr>\n",
       "  </thead>\n",
       "  <tbody>\n",
       "    <tr>\n",
       "      <th>0</th>\n",
       "      <td>36.0042</td>\n",
       "      <td>-119.96</td>\n",
       "      <td>73.2</td>\n",
       "      <td>107.655</td>\n",
       "      <td>3047.962363</td>\n",
       "      <td>1974.34852</td>\n",
       "      <td>150.560792</td>\n",
       "      <td>-2903.632879</td>\n",
       "      <td>-236.907268</td>\n",
       "      <td>147.021791</td>\n",
       "      <td>0.191503</td>\n",
       "      <td>0.187263</td>\n",
       "      <td>-0.040138</td>\n",
       "    </tr>\n",
       "  </tbody>\n",
       "</table>\n",
       "</div>"
      ],
      "text/plain": [
       "   latitude  longitude  elevation  dist_coast  TAVG_coeff1  TAVG_coeff2  \\\n",
       "0   36.0042    -119.96       73.2     107.655  3047.962363   1974.34852   \n",
       "\n",
       "   TAVG_coeff3  TRANGE_coeff1  TRANGE_coeff2  TRANGE_coeff3  SNWD_coeff1  \\\n",
       "0   150.560792   -2903.632879    -236.907268     147.021791     0.191503   \n",
       "\n",
       "   SNWD_coeff2  SNWD_coeff3  \n",
       "0     0.187263    -0.040138  "
      ]
     },
     "execution_count": 16,
     "metadata": {},
     "output_type": "execute_result"
    }
   ],
   "source": [
    "# break up the lists of coefficients separate columns\n",
    "for col in [u'TAVG_coeff', u'TRANGE_coeff', u'SNWD_coeff']:\n",
    "    for i in range(3):\n",
    "        new_col=col+str(i+1)\n",
    "        data[new_col]=[e[i] for e in list(data[col])]\n",
    "    data.drop(labels=col,axis=1,inplace=True)\n",
    "data.drop(labels='station',axis=1,inplace=True)\n",
    "data.head(1)"
   ]
  },
  {
   "cell_type": "markdown",
   "metadata": {},
   "source": [
    "### Performing and evaluating the regression\n",
    "As the size of the data is modest, we can perform the regression using regular python (not spark) running on a laptop. We use the library `sklearn`"
   ]
  },
  {
   "cell_type": "code",
   "execution_count": 17,
   "metadata": {
    "collapsed": true
   },
   "outputs": [],
   "source": [
    "from sklearn.linear_model import LinearRegression"
   ]
  },
  {
   "cell_type": "markdown",
   "metadata": {},
   "source": [
    "### Coefficient of determination\n",
    "\n",
    "Computed by calling the method `LinearRegression.score()`\n",
    "\n",
    "The regression score comes under several names: \"Coefficient of determination\", $R^2$, \"R squared score\", \"percentage of variance explained\", \"correlation coefficient\". It is explained in more detail in [wikipedia](https://en.wikipedia.org/wiki/Coefficient_of_determination).\n",
    "\n",
    "**Roughly speaking the $R^2$-score measures the fraction of the variance of the regression output variable that is explained by the prediction function.** The score varies between 0 and 1. A score of 1 means that the regression function perfectly predicts the value of $y$. A score of 0 means that it does not predict $y$ at all.\n",
    "\n",
    "#### Training score vs Test score\n",
    "Suppose we fit a regression function with 10 features to 10 data points. We are very likely to fit the data perfectly and get a score of 1. However, this does not mean that our model truly explains the data. It just means that the number of training examples we are using to fit the model is too small. To detect this situation, we can compute the score of the model that was fit to the **training set**, on a **test set**. If the ratio between the test score and the training score is smaller than, say, 0.1, then our regression function probably over-fits the data.\n",
    "\n",
    "#### Finding the importance of input variables\n",
    "The fact that a regression coefficient is far from zero provides some indication that it is important. However, the size of these coefficients also depends on the scaling of the variables. A much more reliable way to find out which of the input variables are important is to compare the score of the regression function we get when using all of the input variables to the score when one of the variables is eliminated. This is sometimes called \"sensitivity analysis\""
   ]
  },
  {
   "cell_type": "code",
   "execution_count": 51,
   "metadata": {
    "collapsed": false
   },
   "outputs": [],
   "source": [
    "# Compute score changes\n",
    "def compute_scores(y_label,X_Train,y_Train,X_test,Y_test):\n",
    "    lg = LinearRegression()\n",
    "    lg.fit(X_Train,y_Train)\n",
    "\n",
    "    train_score = lg.score(X_Train,y_Train)\n",
    "    test_score = lg.score(X_test,Y_test)\n",
    "    print('R-squared(Coeff. of determination): Train:%.3f, Test:%.3f\\n' % (train_score,test_score))\n",
    "\n",
    "    full=set(range(X_Train.shape[1]))\n",
    "    for i in range(X_Train.shape[1]):\n",
    "        L=list(full.difference(set([i])))  # fill in\n",
    "        L.sort()\n",
    "        r_train_X=X_Train[:,L]\n",
    "        r_test_X=X_test[:,L]\n",
    "        \n",
    "        lg = LinearRegression()\n",
    "        lg.fit(r_train_X,y_Train)\n",
    "        r_train_score = lg.score(r_train_X,y_Train)\n",
    "        r_test_score  = lg.score(r_test_X,Y_test)\n",
    "        print \"removed\",data.columns[i],\n",
    "        print \"Score decrease: \\tTrain:%5.3f\" % (train_score-r_train_score),\n",
    "        print \"\\tTest: %5.3f \" % (test_score-r_test_score)"
   ]
  },
  {
   "cell_type": "markdown",
   "metadata": {},
   "source": [
    "### Partition into training set and test set\n",
    "By dividing the data into two parts, we can detect when our model over-fits. When over-fitting happens, the significance on the test set is much smaller than the significance on the training set."
   ]
  },
  {
   "cell_type": "code",
   "execution_count": 52,
   "metadata": {
    "collapsed": false
   },
   "outputs": [
    {
     "name": "stdout",
     "output_type": "stream",
     "text": [
      "(12140, 13) (6026, 13) (6114, 13)\n"
     ]
    }
   ],
   "source": [
    "from numpy.random import rand\n",
    "N=data.shape[0]\n",
    "train_i = rand(N)>0.5\n",
    "Train = data.ix[train_i,:]\n",
    "Test  = data.ix[~train_i,:]   # fill in\n",
    "print data.shape,Train.shape,Test.shape"
   ]
  },
  {
   "cell_type": "code",
   "execution_count": 54,
   "metadata": {
    "collapsed": false,
    "scrolled": false
   },
   "outputs": [
    {
     "name": "stdout",
     "output_type": "stream",
     "text": [
      "['latitude', 'longitude', 'elevation', 'dist_coast']\n",
      "\n",
      "Target variable:  TAVG_coeff1 ########################################\n",
      "Coeffs:  latitude:-154.75  longitude:-19.94  elevation:-0.69  dist_coast:-0.14 \n",
      "R-squared(Coeff. of determination): Train:0.933, Test:0.929\n",
      "\n",
      "removed latitude Score decrease: \tTrain:0.625 \tTest: 0.600 \n",
      "removed longitude Score decrease: \tTrain:0.072 \tTest: 0.061 \n",
      "removed elevation Score decrease: \tTrain:0.127 \tTest: 0.122 \n",
      "removed dist_coast Score decrease: \tTrain:0.003 \tTest: 0.003 \n",
      "\n",
      "Target variable:  TAVG_coeff2 ########################################\n",
      "Coeffs:  latitude:-4.84  longitude: 7.47  elevation:-0.15  dist_coast: 0.48 \n",
      "R-squared(Coeff. of determination): Train:0.610, Test:0.579\n",
      "\n",
      "removed latitude Score decrease: \tTrain:0.007 \tTest: 0.006 \n",
      "removed longitude Score decrease: \tTrain:0.119 \tTest: 0.113 \n",
      "removed elevation Score decrease: \tTrain:0.070 \tTest: 0.063 \n",
      "removed dist_coast Score decrease: \tTrain:0.398 \tTest: 0.374 \n",
      "\n",
      "Target variable:  TAVG_coeff3 ########################################\n",
      "Coeffs:  latitude:-4.07  longitude:-2.71  elevation: 0.00  dist_coast: 0.07 \n",
      "R-squared(Coeff. of determination): Train:0.404, Test:0.413\n",
      "\n",
      "removed latitude Score decrease: \tTrain:0.051 \tTest: 0.047 \n",
      "removed longitude Score decrease: \tTrain:0.158 \tTest: 0.154 \n",
      "removed elevation Score decrease: \tTrain:0.001 \tTest: 0.002 \n",
      "removed dist_coast Score decrease: \tTrain:0.090 \tTest: 0.087 \n",
      "\n",
      "Target variable:  TRANGE_coeff1 ########################################\n",
      "Coeffs:  latitude:24.41  longitude: 7.97  elevation:-0.35  dist_coast:-0.16 \n",
      "R-squared(Coeff. of determination): Train:0.460, Test:0.453\n",
      "\n",
      "removed latitude Score decrease: \tTrain:0.059 \tTest: 0.049 \n",
      "removed longitude Score decrease: \tTrain:0.044 \tTest: 0.054 \n",
      "removed elevation Score decrease: \tTrain:0.125 \tTest: 0.116 \n",
      "removed dist_coast Score decrease: \tTrain:0.014 \tTest: 0.013 \n",
      "\n",
      "Target variable:  TRANGE_coeff2 ########################################\n",
      "Coeffs:  latitude:-31.64  longitude: 5.78  elevation:-0.02  dist_coast: 0.13 \n",
      "R-squared(Coeff. of determination): Train:0.650, Test:0.642\n",
      "\n",
      "removed latitude Score decrease: \tTrain:0.455 \tTest: 0.460 \n",
      "removed longitude Score decrease: \tTrain:0.106 \tTest: 0.111 \n",
      "removed elevation Score decrease: \tTrain:0.001 \tTest: 0.001 \n",
      "removed dist_coast Score decrease: \tTrain:0.041 \tTest: 0.048 \n",
      "\n",
      "Target variable:  TRANGE_coeff3 ########################################\n",
      "Coeffs:  latitude: 3.63  longitude: 1.50  elevation: 0.04  dist_coast:-0.04 \n",
      "R-squared(Coeff. of determination): Train:0.113, Test:0.076\n",
      "\n",
      "removed latitude Score decrease: \tTrain:0.047 \tTest: 0.032 \n",
      "removed longitude Score decrease: \tTrain:0.056 \tTest: 0.037 \n",
      "removed elevation Score decrease: \tTrain:0.054 \tTest: 0.036 \n",
      "removed dist_coast Score decrease: \tTrain:0.026 \tTest: 0.017 \n",
      "\n",
      "Target variable:  SNWD_coeff1 ########################################\n",
      "Coeffs:  latitude:152.59  longitude:22.25  elevation: 1.14  dist_coast:-0.98 \n",
      "R-squared(Coeff. of determination): Train:0.232, Test:0.239\n",
      "\n",
      "removed latitude Score decrease: \tTrain:0.156 \tTest: 0.153 \n",
      "removed longitude Score decrease: \tTrain:0.023 \tTest: 0.025 \n",
      "removed elevation Score decrease: \tTrain:0.090 \tTest: 0.097 \n",
      "removed dist_coast Score decrease: \tTrain:0.036 \tTest: 0.028 \n",
      "\n",
      "Target variable:  SNWD_coeff2 ########################################\n",
      "Coeffs:  latitude: 0.24  longitude:-1.75  elevation:-0.23  dist_coast: 0.27 \n",
      "R-squared(Coeff. of determination): Train:0.062, Test:0.066\n",
      "\n",
      "removed latitude Score decrease: \tTrain:0.000 \tTest: 0.000 \n",
      "removed longitude Score decrease: \tTrain:0.002 \tTest: -0.000 \n",
      "removed elevation Score decrease: \tTrain:0.045 \tTest: 0.048 \n",
      "removed dist_coast Score decrease: \tTrain:0.032 \tTest: 0.026 \n",
      "\n",
      "Target variable:  SNWD_coeff3 ########################################\n",
      "Coeffs:  latitude: 7.62  longitude: 0.41  elevation: 0.08  dist_coast: 0.01 \n",
      "R-squared(Coeff. of determination): Train:0.129, Test:0.139\n",
      "\n",
      "removed latitude Score decrease: \tTrain:0.039 \tTest: 0.040 \n",
      "removed longitude Score decrease: \tTrain:0.001 \tTest: 0.000 \n",
      "removed elevation Score decrease: \tTrain:0.044 \tTest: 0.053 \n",
      "removed dist_coast Score decrease: \tTrain:0.001 \tTest: -0.000 \n"
     ]
    }
   ],
   "source": [
    "from sklearn.cross_validation import train_test_split\n",
    "\n",
    "train_X = Train.ix[:,:4].values\n",
    "test_X=Test.ix[:,:4].values\n",
    "input_names=list(data.columns[:4])   #['latitude', 'longitude', 'elevation', 'dist_coast']\n",
    "\n",
    "for target in [\"TAVG\",\"TRANGE\",\"SNWD\"]:\n",
    "    for j in range(1,4):\n",
    "        y_label = target+\"_coeff\"+str(j)\n",
    "        train_y = Train[y_label]\n",
    "        test_y = Test[y_label]\n",
    "        lg = LinearRegression()\n",
    "        lg.fit(train_X,train_y)\n",
    "\n",
    "        print \"\\nTarget variable: \", y_label, '#'*40\n",
    "        print \"Coeffs: \",\\\n",
    "            ' '.join(['%s:%5.2f ' % (input_names[i],lg.coef_[i]) for i in range(len(lg.coef_))])\n",
    "        \n",
    "        compute_scores(y_label, train_X, train_y, test_X, test_y)"
   ]
  },
  {
   "cell_type": "markdown",
   "metadata": {},
   "source": [
    "### Interpretation\n",
    "When we find a statistically significant coefficient, we want to find a rational explanation for the significance and for the sign of the corresponding coefficient. Please write a one line explanation for each of the following nine input/output pairs (the ones that are numbered).\n",
    "\n",
    "```\n",
    "Target variable:  TAVG_coeff1 ########################################\n",
    "Coeffs:  latitude:-153.98  longitude:-19.21  elevation:-0.68  dist_coast:-0.13 \n",
    "R-squared(Coeff. of determination): Train:0.931, Test:0.931\n",
    "\n",
    "1. removed latitude Score decrease: \tTrain:0.613 \tTest: 0.612 \n",
    "2. removed elevation Score decrease: \tTrain:0.128 \tTest: 0.121 \n",
    "\n",
    "Target variable:  TAVG_coeff2 ########################################\n",
    "Coeffs:  latitude:-5.33  longitude: 7.46  elevation:-0.14  dist_coast: 0.48 \n",
    "R-squared(Coeff. of determination): Train:0.603, Test:0.585\n",
    "\n",
    "3. removed longitude Score decrease: \tTrain:0.115 \tTest: 0.116 \n",
    "4. removed dist_coast Score decrease: \tTrain:0.393 \tTest: 0.378 \n",
    "\n",
    "Target variable:  TAVG_coeff3 ########################################\n",
    "Coeffs:  latitude:-4.19  longitude:-2.64  elevation: 0.01  dist_coast: 0.07 \n",
    "R-squared(Coeff. of determination): Train:0.420, Test:0.398\n",
    "\n",
    "5. removed longitude Score decrease: \tTrain:0.148 \tTest: 0.164 \n",
    "6. removed dist_coast Score decrease: \tTrain:0.095 \tTest: 0.082 \n",
    "\n",
    "Target variable:  TRANGE_coeff1 ########################################\n",
    "Coeffs:  latitude:25.00  longitude: 8.63  elevation:-0.36  dist_coast:-0.15 \n",
    "R-squared(Coeff. of determination): Train:0.478, Test:0.435\n",
    "\n",
    "7. removed elevation Score decrease: \tTrain:0.127 \tTest: 0.113 \n",
    "\n",
    "Target variable:  TRANGE_coeff2 ########################################\n",
    "Coeffs:  latitude:-32.63  longitude: 6.04  elevation:-0.02  dist_coast: 0.14 \n",
    "R-squared(Coeff. of determination): Train:0.649, Test:0.642\n",
    "\n",
    "8. removed latitude Score decrease: \tTrain:0.461 \tTest: 0.454 \n",
    "\n",
    "Target variable:  SNWD_coeff1 ########################################\n",
    "Coeffs:  latitude:147.72  longitude:21.54  elevation: 1.09  dist_coast:-0.88 \n",
    "R-squared(Coeff. of determination): Train:0.232, Test:0.238\n",
    "\n",
    "9. removed latitude Score decrease: \tTrain:0.153 \tTest: 0.155 \n",
    "```"
   ]
  },
  {
   "cell_type": "code",
   "execution_count": 55,
   "metadata": {
    "collapsed": false
   },
   "outputs": [
    {
     "name": "stdout",
     "output_type": "stream",
     "text": [
      "  % Total    % Received % Xferd  Average Speed   Time    Time     Time  Current\n",
      "                                 Dload  Upload   Total   Spent    Left  Speed\n",
      "100 25.6M  100 25.6M    0     0  1613k      0  0:00:16  0:00:16 --:--:-- 2487k\n"
     ]
    }
   ],
   "source": [
    "!curl -o \"STAT_TAVG_RANGE.pickle\" \"http://mas-dse-open.s3.amazonaws.com/Weather/STAT_TAVG_RANGE.pickle\""
   ]
  },
  {
   "cell_type": "code",
   "execution_count": 78,
   "metadata": {
    "collapsed": false
   },
   "outputs": [],
   "source": [
    "STAT_TAVG_RANGE, STAT_TAVG_RANGE_description = pickle.load(open(\"STAT_TAVG_RANGE.pickle\",'r'))"
   ]
  },
  {
   "cell_type": "code",
   "execution_count": 79,
   "metadata": {
    "collapsed": false
   },
   "outputs": [
    {
     "data": {
      "text/plain": [
       "['TAVG', 'TRANGE']"
      ]
     },
     "execution_count": 79,
     "metadata": {},
     "output_type": "execute_result"
    }
   ],
   "source": [
    "STAT_TAVG_RANGE.keys()"
   ]
  },
  {
   "cell_type": "code",
   "execution_count": 80,
   "metadata": {
    "collapsed": false
   },
   "outputs": [
    {
     "data": {
      "text/plain": [
       "[('SortedVals',\n",
       "  'Sample of values',\n",
       "  'vector whose length varies between measurements'),\n",
       " ('UnDef',\n",
       "  'sample of number of undefs per row',\n",
       "  'vector whose length varies between measurements'),\n",
       " ('mean', 'mean value', ()),\n",
       " ('std', 'std', ()),\n",
       " ('low100', 'bottom 1%', ()),\n",
       " ('high100', 'top 1%', ()),\n",
       " ('low1000', 'bottom 0.1%', ()),\n",
       " ('high1000', 'top 0.1%', ()),\n",
       " ('E', 'Sum of values per day', (365,)),\n",
       " ('NE', 'count of values per day', (365,)),\n",
       " ('Mean', 'E/NE', (365,)),\n",
       " ('O', 'Sum of outer products', (365, 365)),\n",
       " ('NO', 'counts for outer products', (365, 365)),\n",
       " ('Cov', 'O/NO', (365, 365)),\n",
       " ('Var', 'The variance per day = diagonal of Cov', (365,)),\n",
       " ('eigval', 'PCA eigen-values', (365,)),\n",
       " ('eigvec', 'PCA eigen-vectors', (365, 365))]"
      ]
     },
     "execution_count": 80,
     "metadata": {},
     "output_type": "execute_result"
    }
   ],
   "source": [
    "STAT_TAVG_RANGE_description"
   ]
  },
  {
   "cell_type": "code",
   "execution_count": 81,
   "metadata": {
    "collapsed": true
   },
   "outputs": [],
   "source": [
    "def YearlyPlots(T,ttl='',yl='',xl='',y=None,x=None,size=(10,7)):\n",
    "    yearday=[i for i in range(1,366)]\n",
    "    fig=figure(1,figsize=size,dpi=300)\n",
    "    if shape(T)[0] != 365:\n",
    "        raise ValueError(\"First dimension of T should be 365. Shape(T)=\"+str(shape(T)))\n",
    "    plot_date(yearday,T, '-');\n",
    "    # rotate and align the tick labels so they look better\n",
    "    #fig.autofmt_xdate()\n",
    "    ylabel(yl)\n",
    "    xlabel(xl)\n",
    "    if y is not None:\n",
    "        ylim(y)\n",
    "    if x is not None:\n",
    "        xlim(x)\n",
    "    grid()\n",
    "    title(ttl)"
   ]
  },
  {
   "cell_type": "code",
   "execution_count": 82,
   "metadata": {
    "collapsed": false
   },
   "outputs": [
    {
     "name": "stdout",
     "output_type": "stream",
     "text": [
      "Populating the interactive namespace from numpy and matplotlib\n"
     ]
    },
    {
     "data": {
      "image/png": "[encoded data removed]",
      "text/plain": [
       "<matplotlib.figure.Figure at 0x110d2ba50>"
      ]
     },
     "metadata": {},
     "output_type": "display_data"
    }
   ],
   "source": [
    "%pylab inline\n",
    "figure(figsize=(15,30))\n",
    "offset=1\n",
    "for meas in STAT_TAVG_RANGE.keys():\n",
    "    subplot(6,3,offset)\n",
    "    offset+=1\n",
    "    ## Your code for Histogram\n",
    "    npa_RawSortedVals = STAT_TAVG_RANGE[meas]['SortedVals']\n",
    "    npa_SortedVals = npa_RawSortedVals[where(logical_and(npa_RawSortedVals>=STAT_TAVG_RANGE[meas]['low100'],\\\n",
    "                                                         npa_RawSortedVals<=STAT_TAVG_RANGE[meas]['high100']))[0]]\n",
    "    hist(npa_SortedVals, bins=100)\n",
    "    title('%s restricted Hist'%(meas))\n",
    "    \n",
    "    subplot(6,3,offset)\n",
    "    offset+=1\n",
    "    ## Your code for mean and mean +- std\n",
    "    YearlyPlots(STAT_TAVG_RANGE[meas]['Mean'] + sqrt(STAT_TAVG_RANGE[meas]['Var']))\n",
    "    YearlyPlots(STAT_TAVG_RANGE[meas]['Mean'])\n",
    "    YearlyPlots(STAT_TAVG_RANGE[meas]['Mean'] - sqrt(STAT_TAVG_RANGE[meas]['Var']))\n",
    "    title('%s mean +- std'%(meas))\n",
    "    \n",
    "    subplot(6,3,offset)\n",
    "    offset+=1\n",
    "    ## Your code for number of measurements\n",
    "    YearlyPlots(STAT_TAVG_RANGE[meas]['NE'],ttl='%s Counts'%(meas))   "
   ]
  },
  {
   "cell_type": "markdown",
   "metadata": {},
   "source": [
    "### Write your answers here\n",
    "\n",
    "Consult the plots of the eigen-vectors. `SNWD` is available in an earlier notebook.\n",
    "The statistics for TRANGE and TAVG is in the file\n",
    "`http://mas-dse-open.s3.amazonaws.com/Weather/STAT_TAVG_RANGE.pickle`\n",
    "\n",
    "For each of the following eigen-vectors, give a short verbal description\n",
    "\n",
    "1. TAVG_coeff1: average temperature across the year.\n",
    "2. TAVG_coeff2: Difference in temperature between summer and winter.\n",
    "3. TAVG_coeff3: `your answer here`   \n",
    "4. TRANGE_coeff1:\n",
    "5. TRANGE_coeff2:\n",
    "6. SNWD_coeff1:\n"
   ]
  },
  {
   "cell_type": "markdown",
   "metadata": {},
   "source": [
    "Once you have given a meaning to each of these eigen-vectors, explain the relation to the input variable. Short explanations are better than long ones.\n",
    "\n",
    "Example:\n",
    "\n",
    "1. Locations with high latitude are colder.\n",
    "2.\n",
    "3.\n",
    "4.\n",
    "5.\n",
    "6.\n",
    "7.\n",
    "8.\n",
    "9.\n"
   ]
  },
  {
   "cell_type": "code",
   "execution_count": null,
   "metadata": {
    "collapsed": true
   },
   "outputs": [],
   "source": []
  }
 ],
 "metadata": {
  "kernelspec": {
   "display_name": "Python 2",
   "language": "python",
   "name": "python2"
  },
  "language_info": {
   "codemirror_mode": {
    "name": "ipython",
    "version": 2
   },
   "file_extension": ".py",
   "mimetype": "text/x-python",
   "name": "python",
   "nbconvert_exporter": "python",
   "pygments_lexer": "ipython2",
   "version": "2.7.11"
  }
 },
 "nbformat": 4,
 "nbformat_minor": 0
}
