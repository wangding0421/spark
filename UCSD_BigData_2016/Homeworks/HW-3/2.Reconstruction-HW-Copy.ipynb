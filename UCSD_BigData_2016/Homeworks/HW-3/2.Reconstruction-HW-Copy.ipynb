{
 "cells": [
  {
   "cell_type": "code",
   "execution_count": 2,
   "metadata": {
    "collapsed": false
   },
   "outputs": [
    {
     "name": "stdout",
     "output_type": "stream",
     "text": [
      "Populating the interactive namespace from numpy and matplotlib\n"
     ]
    }
   ],
   "source": [
    "%pwd\n",
    "%pylab inline"
   ]
  },
  {
   "cell_type": "code",
   "execution_count": 3,
   "metadata": {
    "collapsed": false
   },
   "outputs": [
    {
     "name": "stdout",
     "output_type": "stream",
     "text": [
      "STAT.pickle                 ghcnd-stations.txt\r\n",
      "SampleStations.pickle       ghcnd-stations_buffered.txt\r\n",
      "data-source.txt             ghcnd-version.txt\r\n",
      "ghcnd-readme.txt            stations.pkl\r\n"
     ]
    }
   ],
   "source": [
    "data_dir = \"../../Data/Weather/\"\n",
    "%matplotlib inline\n",
    "!mkdir -p $data_dir\n",
    "!ls $data_dir"
   ]
  },
  {
   "cell_type": "markdown",
   "metadata": {},
   "source": [
    "### Downloading Pickled data from S3\n",
    "If `SampleStations.pickle` is not in the directory, get it using the following command"
   ]
  },
  {
   "cell_type": "code",
   "execution_count": 3,
   "metadata": {
    "collapsed": false
   },
   "outputs": [
    {
     "name": "stdout",
     "output_type": "stream",
     "text": [
      "  % Total    % Received % Xferd  Average Speed   Time    Time     Time  Current\n",
      "                                 Dload  Upload   Total   Spent    Left  Speed\n",
      "100  398M  100  398M    0     0  1133k      0  0:06:00  0:06:00 --:--:-- 1016k\n"
     ]
    }
   ],
   "source": [
    "!curl -o $data_dir/SampleStations.pickle http://mas-dse-open.s3.amazonaws.com/Weather/SampleStations.pickle"
   ]
  },
  {
   "cell_type": "markdown",
   "metadata": {},
   "source": [
    "### Plot Reconstructions\n",
    "\n",
    "From each measurement, we take 2 sample stations with low residual error and 2 sample stations with high residual error and plot the following:\n",
    "\n",
    "* Original Data Vector\n",
    "* Mean Vector\n",
    "* Reconstructed Data Vector using mean and top 1 eigen vectors\n",
    "* Reconstructed Data Vector using mean and top 2 eigen vectors\n",
    "* Reconstructed Data Vector using mean and top 3 eigen vectors"
   ]
  },
  {
   "cell_type": "markdown",
   "metadata": {},
   "source": [
    "### Read and Preprocess data\n",
    "\n",
    "Read data from the pickle files `SampleStations.pickle` and `STAT.pickle`\n",
    "\n",
    "* `SampleStations.pickle` contains information about the 6 measurements taken from some sample stations. You have been provided the code to process this file. It converts the seemingly complicated structure into a list of lists where each sublist has the following information:\n",
    "\n",
    "`['station','measurement','year','1', '2', '3', ...... , '365']`\n",
    "\n",
    "*  station - The station ID\n",
    "*  measurement - One of the 6 types of measurements\n",
    "*  year - The year in which the measurements were recorded\n",
    "*  1-365 - The actual value of measurement for each day of the year\n",
    "\n",
    "\n",
    "\n",
    "* `STAT.pickle` contains statistics about the weather data for each of the 6 measurements and its description."
   ]
  },
  {
   "cell_type": "code",
   "execution_count": 4,
   "metadata": {
    "collapsed": false
   },
   "outputs": [],
   "source": [
    "import pickle\n",
    "Data=pickle.load(open(data_dir+'SampleStations.pickle','r'))\n",
    "STAT,STAT_description=pickle.load(open(data_dir+'STAT.pickle','r'))"
   ]
  },
  {
   "cell_type": "code",
   "execution_count": 6,
   "metadata": {
    "collapsed": false
   },
   "outputs": [
    {
     "name": "stdout",
     "output_type": "stream",
     "text": [
      "(38436, 368)\n"
     ]
    }
   ],
   "source": [
    "FlatData=[] #This is the pre-processed data with format: ['station','measurement','year','1', '2', '3', ...... , '365']\n",
    "for station in Data:\n",
    "    stationname=station[0]\n",
    "    for measurements in station[1]:\n",
    "        measurement,year=measurements[0]\n",
    "        yeardata=list(measurements[1])\n",
    "        rowData=[stationname]+[measurement]+[year]+yeardata\n",
    "        FlatData.append(rowData)\n",
    "        \n",
    "print shape(FlatData)"
   ]
  },
  {
   "cell_type": "code",
   "execution_count": 7,
   "metadata": {
    "collapsed": false
   },
   "outputs": [],
   "source": [
    "import pandas as pd\n",
    "\n",
    "frameheader=['station','measurement','year']+range(1,366)\n",
    "df=pd.DataFrame(FlatData,columns=frameheader)\n",
    "\n",
    "m_df={} #Process flatdata to DataFrame and then separated by measurement.\n",
    "for m in ['TMIN', 'TOBS', 'TMAX', 'SNOW', 'SNWD', 'PRCP']:\n",
    "    t_df=df[df['measurement']==m]    #t stands for temp\n",
    "    m_df[m]=t_df    #m stands for measurement"
   ]
  },
  {
   "cell_type": "code",
   "execution_count": 18,
   "metadata": {
    "collapsed": false
   },
   "outputs": [
    {
     "name": "stdout",
     "output_type": "stream",
     "text": [
      "<class 'pandas.core.frame.DataFrame'>\n"
     ]
    }
   ],
   "source": [
    "print type(m_df['TMAX'])"
   ]
  },
  {
   "cell_type": "markdown",
   "metadata": {},
   "source": [
    "### Define Reconstruction Function\n",
    "\n",
    "You need to plot reconstructions for two stations with low reconstruction error and two stations with high reconstruction error. To do this, you will need to do the following:\n",
    "\n",
    "1. Calculate the reconstruction error for the data vector reconstructed using mean and top-3 eigenvectors.\n",
    "2. Remove the ones for which reconstruction error is NaN.\n",
    "3. Choose two with the lowest and two with the highest reconstruction error for plotting."
   ]
  },
  {
   "cell_type": "code",
   "execution_count": 58,
   "metadata": {
    "collapsed": false
   },
   "outputs": [
    {
     "name": "stdout",
     "output_type": "stream",
     "text": [
      "[[nan nan nan nan nan nan nan nan 102.0 nan nan 64.0 nan nan nan nan nan\n",
      "  nan nan nan nan nan nan nan nan nan nan nan nan nan nan nan nan nan nan\n",
      "  nan nan nan nan nan nan nan nan nan nan nan nan nan nan nan nan nan nan\n",
      "  nan nan nan nan nan nan nan nan nan nan nan nan nan nan nan nan nan nan\n",
      "  nan nan nan 0.0 0.0 nan 0.0 nan 0.0 nan 0.0 0.0 0.0 0.0 nan nan nan nan\n",
      "  nan nan nan nan 0.0 nan nan 0.0 0.0 nan nan 0.0 nan nan 0.0 0.0 nan 0.0\n",
      "  nan nan nan nan nan nan nan nan nan nan nan nan nan nan nan nan nan nan\n",
      "  nan nan nan nan nan nan nan nan nan nan nan nan nan nan nan nan nan nan\n",
      "  nan nan nan nan nan nan nan nan nan nan nan nan nan nan nan nan nan nan\n",
      "  nan nan nan nan nan nan nan nan nan nan nan nan nan nan nan nan nan nan\n",
      "  nan nan nan nan nan nan nan nan nan nan nan nan nan nan nan nan nan nan\n",
      "  nan nan nan nan nan nan nan nan nan nan nan nan nan nan nan nan nan nan\n",
      "  nan nan nan nan nan nan nan nan nan nan nan nan nan nan nan nan nan nan\n",
      "  nan nan nan nan nan nan nan nan nan nan nan nan nan nan nan nan nan nan\n",
      "  nan nan nan nan nan nan nan nan nan nan nan nan nan nan nan nan nan nan\n",
      "  nan nan nan nan nan nan nan nan nan nan nan nan nan nan nan nan nan nan\n",
      "  nan nan nan nan nan nan nan nan nan nan nan nan nan nan nan nan nan nan\n",
      "  nan nan nan nan nan nan nan nan nan nan nan nan nan nan nan nan nan nan\n",
      "  nan nan nan nan nan nan nan nan nan nan nan nan nan nan nan nan nan nan\n",
      "  nan nan nan nan nan nan nan nan nan nan nan nan nan nan nan nan nan nan\n",
      "  nan nan nan nan nan nan]]\n",
      "(365,) (3, 365) (6549, 365) <type 'numpy.ndarray'>\n"
     ]
    }
   ],
   "source": [
    "m = 'SNWD'\n",
    "npa_mean = STAT[m]['Mean']\n",
    "npa_EigVecs = STAT[m]['eigvec'].T[0:3]\n",
    "npa_Data = array(m_df[m])[:,3:368]\n",
    "\n",
    "print nansum(dstack((npa_Data[1],npa_Data[3])),axis=2)\n",
    "print shape(npa_mean), shape(npa_EigVecs), shape(npa_Data), type(npa_Data)"
   ]
  },
  {
   "cell_type": "code",
   "execution_count": 34,
   "metadata": {
    "collapsed": false
   },
   "outputs": [],
   "source": [
    "def create_reconstructions(m):  \n",
    "    \n",
    "    ## Put your code for computating reconstructions here\n",
    "    npa_mean = STAT[m]['Mean']\n",
    "    npa_EigVecs = STAT[m]['eigvec'].T[0:3]\n",
    "    \n",
    "    \n",
    "    yeardays=[i for i in (1,366)]\n",
    "    plt.figure(figsize=(20,30),dpi=300)\n",
    "    j=1\n",
    "    c=0\n",
    "    for l in lower:   #lower should be 2 stations with low reconstruction error\n",
    "        subplot(4,2,j)\n",
    "        j+=1\n",
    "        c+=1\n",
    "        plot(original[l])\n",
    "        plot(STAT[m]['Mean'])\n",
    "        plot(Reconstructed[1][:,l])\n",
    "        plot(Reconstructed[2][:,l])\n",
    "        plot(Reconstructed[3][:,l])\n",
    "        title('#' + str(c) + ' Sample for ' + m + ' (low residual error)')\n",
    "        xlim([0,365])\n",
    "        legend(['original','Mean','1','2','3'],loc=2)\n",
    "    \n",
    "    c=0\n",
    "    for l in upper:\n",
    "        subplot(4,2,j)\n",
    "        j+=1\n",
    "        c+=1\n",
    "        plot(original[l])\n",
    "        plot(STAT[m]['Mean'])\n",
    "        plot(Reconstructed[1][:,l])\n",
    "        plot(Reconstructed[2][:,l])\n",
    "        plot(Reconstructed[3][:,l])\n",
    "        title('#' + str(c) + ' Sample for ' + m + ' (high residual error)')\n",
    "        xlim([0,365])\n",
    "        legend(['original','Mean','1','2','3'],loc=2)\n",
    "        "
   ]
  },
  {
   "cell_type": "code",
   "execution_count": 17,
   "metadata": {
    "collapsed": false
   },
   "outputs": [
    {
     "data": {
      "text/plain": [
       "[<matplotlib.lines.Line2D at 0x119ff0550>]"
      ]
     },
     "execution_count": 17,
     "metadata": {},
     "output_type": "execute_result"
    },
    {
     "data": {
      "image/png": "[encoded data removed]",
      "text/plain": [
       "<matplotlib.figure.Figure at 0x119f76090>"
      ]
     },
     "metadata": {},
     "output_type": "display_data"
    }
   ],
   "source": [
    "\n",
    "plot(STAT['TMAX']['Mean'])"
   ]
  },
  {
   "cell_type": "code",
   "execution_count": 11,
   "metadata": {
    "collapsed": false,
    "scrolled": false
   },
   "outputs": [
    {
     "name": "stdout",
     "output_type": "stream",
     "text": [
      "Reconstruction Plots for TMAX\n"
     ]
    },
    {
     "ename": "NameError",
     "evalue": "global name 'lower' is not defined",
     "output_type": "error",
     "traceback": [
      "\u001b[0;31m---------------------------------------------------------------------------\u001b[0m",
      "\u001b[0;31mNameError\u001b[0m                                 Traceback (most recent call last)",
      "\u001b[0;32m<ipython-input-11-4ccb2281a088>\u001b[0m in \u001b[0;36m<module>\u001b[0;34m()\u001b[0m\n\u001b[1;32m      1\u001b[0m \u001b[0;32mfor\u001b[0m \u001b[0mm\u001b[0m \u001b[0;32min\u001b[0m \u001b[0;34m[\u001b[0m\u001b[0;34m'TMAX'\u001b[0m\u001b[0;34m,\u001b[0m\u001b[0;34m'SNWD'\u001b[0m\u001b[0;34m]\u001b[0m\u001b[0;34m:\u001b[0m\u001b[0;34m\u001b[0m\u001b[0m\n\u001b[1;32m      2\u001b[0m     \u001b[0;32mprint\u001b[0m \u001b[0;34m'Reconstruction Plots for '\u001b[0m\u001b[0;34m+\u001b[0m \u001b[0mm\u001b[0m\u001b[0;34m\u001b[0m\u001b[0m\n\u001b[0;32m----> 3\u001b[0;31m     \u001b[0mcreate_reconstructions\u001b[0m\u001b[0;34m(\u001b[0m\u001b[0mm\u001b[0m\u001b[0;34m)\u001b[0m\u001b[0;34m\u001b[0m\u001b[0m\n\u001b[0m",
      "\u001b[0;32m<ipython-input-10-c0042e7cc9b9>\u001b[0m in \u001b[0;36mcreate_reconstructions\u001b[0;34m(m)\u001b[0m\n\u001b[1;32m      7\u001b[0m     \u001b[0mj\u001b[0m\u001b[0;34m=\u001b[0m\u001b[0;36m1\u001b[0m\u001b[0;34m\u001b[0m\u001b[0m\n\u001b[1;32m      8\u001b[0m     \u001b[0mc\u001b[0m\u001b[0;34m=\u001b[0m\u001b[0;36m0\u001b[0m\u001b[0;34m\u001b[0m\u001b[0m\n\u001b[0;32m----> 9\u001b[0;31m     \u001b[0;32mfor\u001b[0m \u001b[0ml\u001b[0m \u001b[0;32min\u001b[0m \u001b[0mlower\u001b[0m\u001b[0;34m:\u001b[0m\u001b[0;34m\u001b[0m\u001b[0m\n\u001b[0m\u001b[1;32m     10\u001b[0m         \u001b[0msubplot\u001b[0m\u001b[0;34m(\u001b[0m\u001b[0;36m4\u001b[0m\u001b[0;34m,\u001b[0m\u001b[0;36m2\u001b[0m\u001b[0;34m,\u001b[0m\u001b[0mj\u001b[0m\u001b[0;34m)\u001b[0m\u001b[0;34m\u001b[0m\u001b[0m\n\u001b[1;32m     11\u001b[0m         \u001b[0mj\u001b[0m\u001b[0;34m+=\u001b[0m\u001b[0;36m1\u001b[0m\u001b[0;34m\u001b[0m\u001b[0m\n",
      "\u001b[0;31mNameError\u001b[0m: global name 'lower' is not defined"
     ]
    },
    {
     "data": {
      "text/plain": [
       "<matplotlib.figure.Figure at 0x1171ac790>"
      ]
     },
     "metadata": {},
     "output_type": "display_data"
    }
   ],
   "source": [
    "for m in ['TMAX','SNWD']:\n",
    "    print 'Reconstruction Plots for '+ m\n",
    "    create_reconstructions(m)"
   ]
  },
  {
   "cell_type": "code",
   "execution_count": null,
   "metadata": {
    "collapsed": true
   },
   "outputs": [],
   "source": []
  }
 ],
 "metadata": {
  "kernelspec": {
   "display_name": "Python 2",
   "language": "python",
   "name": "python2"
  },
  "language_info": {
   "codemirror_mode": {
    "name": "ipython",
    "version": 2
   },
   "file_extension": ".py",
   "mimetype": "text/x-python",
   "name": "python",
   "nbconvert_exporter": "python",
   "pygments_lexer": "ipython2",
   "version": "2.7.11"
  }
 },
 "nbformat": 4,
 "nbformat_minor": 0
}
