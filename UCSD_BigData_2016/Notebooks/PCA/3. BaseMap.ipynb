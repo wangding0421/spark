{
 "cells": [
  {
   "cell_type": "markdown",
   "metadata": {},
   "source": [
    "# Finished!"
   ]
  },
  {
   "cell_type": "markdown",
   "metadata": {
    "slideshow": {
     "slide_type": "slide"
    }
   },
   "source": [
    "### Some Analysis of the NOAA weather dataset ###\n",
    "\n",
    "In this notebook we are analyzing a sample out of data that was downloaded from http://www1.ncdc.noaa.gov/pub/data/ghcn/daily/, the main file is ghcnd_all.tar.gz which is about 2.4 GB which becomes around 20GB when uncompressed.\n",
    "\n",
    "The data contains about 1 million station-year recordings. That is too much to analyzer on single core machine, so we start by taking a sample of 20,000 recordings of the maximal daily temperatures for a period of a 365 days starting on January 1st (the last day of leap years is discarded)."
   ]
  },
  {
   "cell_type": "code",
   "execution_count": 2,
   "metadata": {
    "collapsed": false,
    "slideshow": {
     "slide_type": "fragment"
    }
   },
   "outputs": [
    {
     "name": "stdout",
     "output_type": "stream",
     "text": [
      "Populating the interactive namespace from numpy and matplotlib\n",
      "pandas version:  0.18.0\n",
      "numpy version: 1.11.0\n"
     ]
    }
   ],
   "source": [
    "import pandas as pd\n",
    "import numpy as np\n",
    "from numpy import nan,shape\n",
    "%pylab inline\n",
    "print 'pandas version: ',pd.__version__\n",
    "print 'numpy version:',np.__version__"
   ]
  },
  {
   "cell_type": "code",
   "execution_count": 3,
   "metadata": {
    "collapsed": false,
    "slideshow": {
     "slide_type": "slide"
    }
   },
   "outputs": [
    {
     "name": "stdout",
     "output_type": "stream",
     "text": [
      "(85284, 8)\n"
     ]
    },
    {
     "data": {
      "text/html": [
       "<div>\n",
       "<table border=\"1\" class=\"dataframe\">\n",
       "  <thead>\n",
       "    <tr style=\"text-align: right;\">\n",
       "      <th></th>\n",
       "      <th>latitude</th>\n",
       "      <th>longitude</th>\n",
       "      <th>elevation</th>\n",
       "      <th>state</th>\n",
       "      <th>name</th>\n",
       "      <th>GSNFLAG</th>\n",
       "      <th>HCNFLAG</th>\n",
       "      <th>WMOID</th>\n",
       "    </tr>\n",
       "  </thead>\n",
       "  <tbody>\n",
       "    <tr>\n",
       "      <th>ACW00011604</th>\n",
       "      <td>17.1167</td>\n",
       "      <td>-61.7833</td>\n",
       "      <td>10.1</td>\n",
       "      <td>NaN</td>\n",
       "      <td>ST JOHNS COOLIDGE FLD</td>\n",
       "      <td>NaN</td>\n",
       "      <td>NaN</td>\n",
       "      <td>NaN</td>\n",
       "    </tr>\n",
       "    <tr>\n",
       "      <th>ACW00011647</th>\n",
       "      <td>17.1333</td>\n",
       "      <td>-61.7833</td>\n",
       "      <td>19.2</td>\n",
       "      <td>NaN</td>\n",
       "      <td>ST JOHNS</td>\n",
       "      <td>NaN</td>\n",
       "      <td>NaN</td>\n",
       "      <td>NaN</td>\n",
       "    </tr>\n",
       "    <tr>\n",
       "      <th>AE000041196</th>\n",
       "      <td>25.3330</td>\n",
       "      <td>55.5170</td>\n",
       "      <td>34.0</td>\n",
       "      <td>NaN</td>\n",
       "      <td>SHARJAH INTER. AIRP</td>\n",
       "      <td>GSN</td>\n",
       "      <td>NaN</td>\n",
       "      <td>41196.0</td>\n",
       "    </tr>\n",
       "    <tr>\n",
       "      <th>AF000040930</th>\n",
       "      <td>35.3170</td>\n",
       "      <td>69.0170</td>\n",
       "      <td>3366.0</td>\n",
       "      <td>NaN</td>\n",
       "      <td>NORTH-SALANG</td>\n",
       "      <td>GSN</td>\n",
       "      <td>NaN</td>\n",
       "      <td>40930.0</td>\n",
       "    </tr>\n",
       "    <tr>\n",
       "      <th>AG000060390</th>\n",
       "      <td>36.7167</td>\n",
       "      <td>3.2500</td>\n",
       "      <td>24.0</td>\n",
       "      <td>NaN</td>\n",
       "      <td>ALGER-DAR EL BEIDA</td>\n",
       "      <td>GSN</td>\n",
       "      <td>NaN</td>\n",
       "      <td>60390.0</td>\n",
       "    </tr>\n",
       "  </tbody>\n",
       "</table>\n",
       "</div>"
      ],
      "text/plain": [
       "             latitude  longitude  elevation state                   name  \\\n",
       "ACW00011604   17.1167   -61.7833       10.1   NaN  ST JOHNS COOLIDGE FLD   \n",
       "ACW00011647   17.1333   -61.7833       19.2   NaN               ST JOHNS   \n",
       "AE000041196   25.3330    55.5170       34.0   NaN    SHARJAH INTER. AIRP   \n",
       "AF000040930   35.3170    69.0170     3366.0   NaN           NORTH-SALANG   \n",
       "AG000060390   36.7167     3.2500       24.0   NaN     ALGER-DAR EL BEIDA   \n",
       "\n",
       "            GSNFLAG HCNFLAG    WMOID  \n",
       "ACW00011604     NaN     NaN      NaN  \n",
       "ACW00011647     NaN     NaN      NaN  \n",
       "AE000041196     GSN     NaN  41196.0  \n",
       "AF000040930     GSN     NaN  40930.0  \n",
       "AG000060390     GSN     NaN  60390.0  "
      ]
     },
     "execution_count": 3,
     "metadata": {},
     "output_type": "execute_result"
    }
   ],
   "source": [
    "# read information about the stations\n",
    "import pickle\n",
    "Data_dir='../../Data/Weather'\n",
    "stations=pickle.load(open(Data_dir+'/stations.pkl','r'))\n",
    "print shape(stations)\n",
    "stations.head()"
   ]
  },
  {
   "cell_type": "raw",
   "metadata": {
    "slideshow": {
     "slide_type": "subslide"
    }
   },
   "source": [
    "These are the fields in the file ghcnd-stations.txt\n",
    "------------------------------\n",
    "Variable   Columns   Type\n",
    "------------------------------\n",
    "ID            1-11   Character\n",
    "LATITUDE     13-20   Real\n",
    "LONGITUDE    22-30   Real\n",
    "ELEVATION    32-37   Real\n",
    "STATE        39-40   Character\n",
    "NAME         42-71   Character\n",
    "GSNFLAG      73-75   Character\n",
    "HCNFLAG      77-79   Character\n",
    "WMOID        81-85   Character\n",
    "------------------------------"
   ]
  },
  {
   "cell_type": "markdown",
   "metadata": {
    "slideshow": {
     "slide_type": "slide"
    }
   },
   "source": [
    "### Plotting maps ###\n",
    "Working through http://matplotlib.org/basemap/\n",
    "\n",
    "* http://en.wikipedia.org/wiki/Map_projection\n",
    "* http://matplotlib.org/basemap/users/mapsetup.html"
   ]
  },
  {
   "cell_type": "code",
   "execution_count": 5,
   "metadata": {
    "collapsed": false,
    "slideshow": {
     "slide_type": "subslide"
    }
   },
   "outputs": [
    {
     "name": "stdout",
     "output_type": "stream",
     "text": [
      "85273\n",
      "85273 85273 85273 85273\n"
     ]
    }
   ],
   "source": [
    "#this code is using pandas dataframes\n",
    "lons=stations.ix[:,'longitude'].values   #ix stands for index for a specify range\n",
    "lats=stations.ix[:,'latitude'].values\n",
    "elev=stations.ix[:,'elevation'].values\n",
    "station_names=stations.index.values\n",
    "ll=len(lons)\n",
    "lonmin=-180;lonmax=180;latsmin=-80;latsmax=80;\n",
    "select=(lons>lonmin) * (lons<lonmax)*(lats>latsmin)*(lats<latsmax) #* guess stands for intersect\n",
    "print sum(select)\n",
    "station_names=station_names[select]\n",
    "lons=lons[select]\n",
    "lats=lats[select]\n",
    "elev=elev[select]\n",
    "elev=[min(3000,max(e,0))/3000. for e in elev] # Normalize the elev with base 3000\n",
    "print len(lons),len(lats),len(station_names),len(elev)"
   ]
  },
  {
   "cell_type": "raw",
   "metadata": {
    "slideshow": {
     "slide_type": "skip"
    }
   },
   "source": [
    "Northernmost point \n",
    "Northwest Angle, Minnesota (49°23'4.1\" N) \n",
    "\n",
    "Southernmost point \n",
    "Ballast Key, Florida ( 24°31′15″ N) \n",
    "\n",
    "Easternmost point \n",
    "Sail Rock, just offshore of West Quoddy Head, Maine \n",
    "(66°57' W) \n",
    "\n",
    "Westernmost point \n",
    "Bodelteh Islands offshore from Cape Alava, Washington \n",
    "(124°46' W) "
   ]
  },
  {
   "cell_type": "markdown",
   "metadata": {
    "slideshow": {
     "slide_type": "slide"
    }
   },
   "source": [
    "### Using Basemap\n",
    "\n",
    "Basemap is a library for drawing maps and placing annotations on the maps.\n",
    "\n",
    "To install basemap on your computer follow [these directions](https://github.com/matplotlib/basemap)\n",
    "\n",
    "In this notebook we use \"For more about scatter, see [documentation](http://matplotlib.org/api/pyplot_api.html#matplotlib.pyplot.scatter)\n",
    "\n",
    "The Mercator projection that is we use in this notebook is expained [here](http://matplotlib.org/basemap/users/merc.html)"
   ]
  },
  {
   "cell_type": "code",
   "execution_count": null,
   "metadata": {
    "collapsed": false,
    "slideshow": {
     "slide_type": "subslide"
    }
   },
   "outputs": [],
   "source": [
    "from mpl_toolkits.basemap import Basemap\n",
    "import numpy as np\n",
    "import matplotlib.pyplot as plt\n",
    "# llcrnrlat,llcrnrlon,urcrnrlat,urcrnrlon\n",
    "# are the lat/lon values of the lower left and upper right corners\n",
    "# of the map.\n",
    "# lat_ts is the latitude of true scale.\n",
    "# resolution = 'i' means use intermediate resolution coastlines.\n",
    "plt.figure(figsize=(20,20),dpi=300)\n",
    "m = Basemap(llcrnrlat=24,urcrnrlat=50,\\\n",
    "            llcrnrlon=-125,urcrnrlon=-65,lat_ts=20,resolution='i')\n",
    "m.drawcoastlines()\n",
    "m.fillcontinents(color='coral',lake_color='aqua')\n",
    "m.drawcountries(linewidth=2)\n",
    "m.drawstates(linewidth=1,color='blue')\n",
    "#m.drawrivers()\n",
    "\n",
    "\n",
    "\n",
    "# draw parallels and meridians.\n",
    "parallels = np.arange(-80,81,10.)\n",
    "# labels = [left,right,top,bottom]\n",
    "m.drawparallels(parallels,labels=[False,True,True,False])\n",
    "meridians = np.arange(10.,351.,20.)\n",
    "m.drawmeridians(meridians,labels=[True,False,False,True])\n",
    "\n",
    "#m.drawparallels(np.arange(-90.,91.,30.))\n",
    "#m.drawmeridians(np.arange(-180.,181.,60.))\n",
    "m.drawmapboundary(fill_color='aqua')\n",
    "# draw map with markers for locations\n",
    "x, y = m(lons,lats)   #transfer lat and lon to this specified map, brilliant \n",
    "z=x*0+40.\n",
    "print shape(x),shape(y),shape(z)\n",
    "m.scatter(x,y,2,z,cmap=plt.cm.jet,marker='o',edgecolors='none',zorder=10)   #z is for color different contrast with elev!\n",
    "#m.plot(x,y,'.g')\n",
    "plt.title('weather stations')\n",
    "plt.show()\n"
   ]
  },
  {
   "cell_type": "code",
   "execution_count": null,
   "metadata": {
    "collapsed": false,
    "scrolled": false,
    "slideshow": {
     "slide_type": "subslide"
    }
   },
   "outputs": [],
   "source": [
    "from mpl_toolkits.basemap import Basemap\n",
    "import numpy as np\n",
    "import matplotlib.pyplot as plt\n",
    "# llcrnrlat,llcrnrlon,urcrnrlat,urcrnrlon\n",
    "# are the lat/lon values of the lower left and upper right corners\n",
    "# of the map.\n",
    "# lat_ts is the latitude of true scale.\n",
    "# resolution = 'i' means use intermediate resolution coastlines.\n",
    "plt.figure(figsize=(20,20),dpi=300)\n",
    "m = Basemap(llcrnrlat=24,urcrnrlat=50,\\\n",
    "            llcrnrlon=-125,urcrnrlon=-65,lat_ts=20,resolution='i')\n",
    "m.drawcoastlines()\n",
    "m.fillcontinents(color='coral',lake_color='aqua')\n",
    "m.drawcountries(linewidth=2)\n",
    "m.drawstates(linewidth=1,color='blue')\n",
    "#m.drawrivers()\n",
    "\n",
    "\n",
    "\n",
    "# draw parallels and meridians.\n",
    "parallels = np.arange(-80,81,10.)\n",
    "# labels = [left,right,top,bottom]\n",
    "m.drawparallels(parallels,labels=[False,True,True,False])\n",
    "meridians = np.arange(10.,351.,20.)\n",
    "m.drawmeridians(meridians,labels=[True,False,False,True])\n",
    "\n",
    "#m.drawparallels(np.arange(-90.,91.,30.))\n",
    "#m.drawmeridians(np.arange(-180.,181.,60.))\n",
    "m.drawmapboundary(fill_color='aqua')\n",
    "# draw map with markers for locations\n",
    "x, y = m(lons,lats)\n",
    "z=np.array(elev)*99\n",
    "print shape(x),shape(y),shape(z)\n",
    "m.scatter(x,y,30,z,cmap=plt.cm.jet,marker='o',edgecolors='none',zorder=10) \n",
    "#m.plot(x,y,'.g')\n",
    "plt.title('weather stations')\n",
    "plt.show()\n"
   ]
  },
  {
   "cell_type": "code",
   "execution_count": 7,
   "metadata": {
    "collapsed": false
   },
   "outputs": [
    {
     "name": "stdout",
     "output_type": "stream",
     "text": [
      "(85273,)\n"
     ]
    },
    {
     "data": {
      "image/png": "[encoded data removed]",
      "text/plain": [
       "<matplotlib.figure.Figure at 0x10e344d50>"
      ]
     },
     "metadata": {},
     "output_type": "display_data"
    }
   ],
   "source": [
    "hist(elev,bins=20);\n",
    "print shape(elev)"
   ]
  },
  {
   "cell_type": "code",
   "execution_count": null,
   "metadata": {
    "collapsed": true
   },
   "outputs": [],
   "source": []
  }
 ],
 "metadata": {
  "celltoolbar": "Slideshow",
  "kernelspec": {
   "display_name": "Python 2",
   "language": "python",
   "name": "python2"
  },
  "language_info": {
   "codemirror_mode": {
    "name": "ipython",
    "version": 2
   },
   "file_extension": ".py",
   "mimetype": "text/x-python",
   "name": "python",
   "nbconvert_exporter": "python",
   "pygments_lexer": "ipython2",
   "version": "2.7.11"
  }
 },
 "nbformat": 4,
 "nbformat_minor": 0
}
