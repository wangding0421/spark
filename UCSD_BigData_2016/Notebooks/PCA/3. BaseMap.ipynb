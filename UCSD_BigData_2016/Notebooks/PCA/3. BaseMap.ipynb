{
 "cells": [
  {
   "cell_type": "markdown",
   "metadata": {},
   "source": [
    "# Finished!"
   ]
  },
  {
   "cell_type": "markdown",
   "metadata": {
    "slideshow": {
     "slide_type": "slide"
    }
   },
   "source": [
    "### Some Analysis of the NOAA weather dataset ###\n",
    "\n",
    "In this notebook we are analyzing a sample out of data that was downloaded from http://www1.ncdc.noaa.gov/pub/data/ghcn/daily/, the main file is ghcnd_all.tar.gz which is about 2.4 GB which becomes around 20GB when uncompressed.\n",
    "\n",
    "The data contains about 1 million station-year recordings. That is too much to analyzer on single core machine, so we start by taking a sample of 20,000 recordings of the maximal daily temperatures for a period of a 365 days starting on January 1st (the last day of leap years is discarded)."
   ]
  },
  {
   "cell_type": "code",
   "execution_count": null,
   "metadata": {
    "collapsed": false,
    "slideshow": {
     "slide_type": "fragment"
    }
   },
   "outputs": [],
   "source": [
    "import pandas as pd\n",
    "import numpy as np\n",
    "from numpy import nan,shape\n",
    "%pylab inline\n",
    "print 'pandas version: ',pd.__version__\n",
    "print 'numpy version:',np.__version__"
   ]
  },
  {
   "cell_type": "code",
   "execution_count": null,
   "metadata": {
    "collapsed": false,
    "slideshow": {
     "slide_type": "slide"
    }
   },
   "outputs": [],
   "source": [
    "# read information about the stations\n",
    "import pickle\n",
    "Data_dir='../../Data/Weather'\n",
    "stations=pickle.load(open(Data_dir+'/stations.pkl','r'))\n",
    "print shape(stations)\n",
    "stations.head()"
   ]
  },
  {
   "cell_type": "raw",
   "metadata": {
    "slideshow": {
     "slide_type": "subslide"
    }
   },
   "source": [
    "These are the fields in the file ghcnd-stations.txt\n",
    "------------------------------\n",
    "Variable   Columns   Type\n",
    "------------------------------\n",
    "ID            1-11   Character\n",
    "LATITUDE     13-20   Real\n",
    "LONGITUDE    22-30   Real\n",
    "ELEVATION    32-37   Real\n",
    "STATE        39-40   Character\n",
    "NAME         42-71   Character\n",
    "GSNFLAG      73-75   Character\n",
    "HCNFLAG      77-79   Character\n",
    "WMOID        81-85   Character\n",
    "------------------------------"
   ]
  },
  {
   "cell_type": "markdown",
   "metadata": {
    "slideshow": {
     "slide_type": "slide"
    }
   },
   "source": [
    "### Plotting maps ###\n",
    "Working through http://matplotlib.org/basemap/\n",
    "\n",
    "* http://en.wikipedia.org/wiki/Map_projection\n",
    "* http://matplotlib.org/basemap/users/mapsetup.html"
   ]
  },
  {
   "cell_type": "code",
   "execution_count": null,
   "metadata": {
    "collapsed": false,
    "slideshow": {
     "slide_type": "subslide"
    }
   },
   "outputs": [],
   "source": [
    "#this code is using pandas dataframes\n",
    "lons=stations.ix[:,'longitude'].values   #ix stands for index for a specify range\n",
    "lats=stations.ix[:,'latitude'].values\n",
    "elev=stations.ix[:,'elevation'].values\n",
    "station_names=stations.index.values\n",
    "ll=len(lons)\n",
    "lonmin=-180;lonmax=180;latsmin=-80;latsmax=80;\n",
    "select=(lons>lonmin) * (lons<lonmax)*(lats>latsmin)*(lats<latsmax) #* guess stands for intersect\n",
    "print sum(select)\n",
    "station_names=station_names[select]\n",
    "lons=lons[select]\n",
    "lats=lats[select]\n",
    "elev=elev[select]\n",
    "elev=[min(3000,max(e,0))/3000. for e in elev] # Normalize the elev with base 3000\n",
    "print len(lons),len(lats),len(station_names),len(elev)"
   ]
  },
  {
   "cell_type": "raw",
   "metadata": {
    "slideshow": {
     "slide_type": "skip"
    }
   },
   "source": [
    "Northernmost point \n",
    "Northwest Angle, Minnesota (49°23'4.1\" N) \n",
    "\n",
    "Southernmost point \n",
    "Ballast Key, Florida ( 24°31′15″ N) \n",
    "\n",
    "Easternmost point \n",
    "Sail Rock, just offshore of West Quoddy Head, Maine \n",
    "(66°57' W) \n",
    "\n",
    "Westernmost point \n",
    "Bodelteh Islands offshore from Cape Alava, Washington \n",
    "(124°46' W) "
   ]
  },
  {
   "cell_type": "markdown",
   "metadata": {
    "slideshow": {
     "slide_type": "slide"
    }
   },
   "source": [
    "### Using Basemap\n",
    "\n",
    "Basemap is a library for drawing maps and placing annotations on the maps.\n",
    "\n",
    "To install basemap on your computer follow [these directions](https://github.com/matplotlib/basemap)\n",
    "\n",
    "In this notebook we use \"For more about scatter, see [documentation](http://matplotlib.org/api/pyplot_api.html#matplotlib.pyplot.scatter)\n",
    "\n",
    "The Mercator projection that is we use in this notebook is expained [here](http://matplotlib.org/basemap/users/merc.html)"
   ]
  },
  {
   "cell_type": "code",
   "execution_count": null,
   "metadata": {
    "collapsed": false,
    "slideshow": {
     "slide_type": "subslide"
    }
   },
   "outputs": [],
   "source": [
    "from mpl_toolkits.basemap import Basemap\n",
    "import numpy as np\n",
    "import matplotlib.pyplot as plt\n",
    "# llcrnrlat,llcrnrlon,urcrnrlat,urcrnrlon\n",
    "# are the lat/lon values of the lower left and upper right corners\n",
    "# of the map.\n",
    "# lat_ts is the latitude of true scale.\n",
    "# resolution = 'i' means use intermediate resolution coastlines.\n",
    "plt.figure(figsize=(20,20),dpi=300)\n",
    "m = Basemap(llcrnrlat=24,urcrnrlat=50,\\\n",
    "            llcrnrlon=-125,urcrnrlon=-65,lat_ts=20,resolution='i')\n",
    "m.drawcoastlines()\n",
    "m.fillcontinents(color='coral',lake_color='aqua')\n",
    "m.drawcountries(linewidth=2)\n",
    "m.drawstates(linewidth=1,color='blue')\n",
    "#m.drawrivers()\n",
    "\n",
    "\n",
    "\n",
    "# draw parallels and meridians.\n",
    "parallels = np.arange(-80,81,10.)\n",
    "# labels = [left,right,top,bottom]\n",
    "m.drawparallels(parallels,labels=[False,True,True,False])\n",
    "meridians = np.arange(10.,351.,20.)\n",
    "m.drawmeridians(meridians,labels=[True,False,False,True])\n",
    "\n",
    "#m.drawparallels(np.arange(-90.,91.,30.))\n",
    "#m.drawmeridians(np.arange(-180.,181.,60.))\n",
    "m.drawmapboundary(fill_color='aqua')\n",
    "# draw map with markers for locations\n",
    "x, y = m(lons,lats)   #transfer lat and lon to this specified map, brilliant \n",
    "z=x*0+40.\n",
    "print shape(x),shape(y),shape(z)\n",
    "m.scatter(x,y,2,z,cmap=plt.cm.jet,marker='o',edgecolors='none',zorder=10)   #z is for color different contrast with elev!\n",
    "#m.plot(x,y,'.g')\n",
    "plt.title('weather stations')\n",
    "plt.show()\n"
   ]
  },
  {
   "cell_type": "code",
   "execution_count": null,
   "metadata": {
    "collapsed": false,
    "scrolled": false,
    "slideshow": {
     "slide_type": "subslide"
    }
   },
   "outputs": [],
   "source": [
    "from mpl_toolkits.basemap import Basemap\n",
    "import numpy as np\n",
    "import matplotlib.pyplot as plt\n",
    "# llcrnrlat,llcrnrlon,urcrnrlat,urcrnrlon\n",
    "# are the lat/lon values of the lower left and upper right corners\n",
    "# of the map.\n",
    "# lat_ts is the latitude of true scale.\n",
    "# resolution = 'i' means use intermediate resolution coastlines.\n",
    "plt.figure(figsize=(20,20),dpi=300)\n",
    "m = Basemap(llcrnrlat=24,urcrnrlat=50,\\\n",
    "            llcrnrlon=-125,urcrnrlon=-65,lat_ts=20,resolution='i')\n",
    "m.drawcoastlines()\n",
    "m.fillcontinents(color='coral',lake_color='aqua')\n",
    "m.drawcountries(linewidth=2)\n",
    "m.drawstates(linewidth=1,color='blue')\n",
    "#m.drawrivers()\n",
    "\n",
    "\n",
    "\n",
    "# draw parallels and meridians.\n",
    "parallels = np.arange(-80,81,10.)\n",
    "# labels = [left,right,top,bottom]\n",
    "m.drawparallels(parallels,labels=[False,True,True,False])\n",
    "meridians = np.arange(10.,351.,20.)\n",
    "m.drawmeridians(meridians,labels=[True,False,False,True])\n",
    "\n",
    "#m.drawparallels(np.arange(-90.,91.,30.))\n",
    "#m.drawmeridians(np.arange(-180.,181.,60.))\n",
    "m.drawmapboundary(fill_color='aqua')\n",
    "# draw map with markers for locations\n",
    "x, y = m(lons,lats)\n",
    "z=np.array(elev)*99\n",
    "print shape(x),shape(y),shape(z)\n",
    "m.scatter(x,y,30,z,cmap=plt.cm.jet,marker='o',edgecolors='none',zorder=10) \n",
    "#m.plot(x,y,'.g')\n",
    "plt.title('weather stations')\n",
    "plt.show()\n"
   ]
  },
  {
   "cell_type": "code",
   "execution_count": null,
   "metadata": {
    "collapsed": false
   },
   "outputs": [],
   "source": [
    "hist(elev,bins=20);\n"
   ]
  },
  {
   "cell_type": "code",
   "execution_count": null,
   "metadata": {
    "collapsed": true
   },
   "outputs": [],
   "source": []
  }
 ],
 "metadata": {
  "celltoolbar": "Slideshow",
  "kernelspec": {
   "display_name": "Python 2",
   "language": "python",
   "name": "python2"
  },
  "language_info": {
   "codemirror_mode": {
    "name": "ipython",
    "version": 2
   },
   "file_extension": ".py",
   "mimetype": "text/x-python",
   "name": "python",
   "nbconvert_exporter": "python",
   "pygments_lexer": "ipython2",
   "version": "2.7.11"
  }
 },
 "nbformat": 4,
 "nbformat_minor": 0
}
