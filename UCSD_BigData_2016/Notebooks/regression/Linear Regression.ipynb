{
 "cells": [
  {
   "cell_type": "markdown",
   "metadata": {},
   "source": [
    "# Finished"
   ]
  },
  {
   "cell_type": "markdown",
   "metadata": {},
   "source": [
    "## Linear Regression\n",
    "\n",
    "**Linear regression is one of the oldest supervised learning methods.** It relates a number of input variables to an output variable, where the error is measured in terms of **square error**.\n",
    "\n",
    "Here we follow the [MLLib Tutorial on Regression](http://spark.apache.org/docs/latest/mllib-linear-methods.html#regression)"
   ]
  },
  {
   "cell_type": "code",
   "execution_count": 3,
   "metadata": {
    "collapsed": false
   },
   "outputs": [
    {
     "name": "stdout",
     "output_type": "stream",
     "text": [
      "Populating the interactive namespace from numpy and matplotlib\n"
     ]
    }
   ],
   "source": [
    "%pylab inline\n",
    "import numpy as np"
   ]
  },
  {
   "cell_type": "code",
   "execution_count": 4,
   "metadata": {
    "collapsed": true
   },
   "outputs": [],
   "source": [
    "from pyspark.mllib.regression import LabeledPoint, LinearRegressionWithSGD, LinearRegressionModel, RidgeRegressionWithSGD\n",
    "import pyspark.mllib.regression as reg"
   ]
  },
  {
   "cell_type": "markdown",
   "metadata": {},
   "source": [
    "#### LinearRegressionWithSGD\n",
    "Train a linear regression model with no regularization using Stochastic Gradient Descent.\n",
    "[API Documentation](http://spark.apache.org/docs/latest/api/python/pyspark.mllib.html#pyspark.mllib.regression.LinearRegressionWithSGD)\n",
    "\n",
    "It takes as input an RDD of **LabeledPoint**s. The goal is to find a linear model \n",
    "which best predicts the label variables as a linear combination of the input variables.\n",
    "\n",
    "Denote by **$\\vec{x}_i$ the $i$th vector of input variables by $y_i$ the $i$th output variable, \n",
    "by $\\vec{w}$ the vector of weights and by $a$ the point of interception.** Then the least square solution \n",
    "is the setting of $\\vec{w}$ and $a$ that minimizes the Mean Square Error:\n",
    "\n",
    "$$ L(\\vec{w},a) = \\frac{1}{n}\\sum_{i=1}^n (\\vec{w} \\cdot \\vec{x}_i +a - y_i)^2 $$\n",
    "\n"
   ]
  },
  {
   "cell_type": "markdown",
   "metadata": {},
   "source": [
    "#### Simple regression\n",
    "We start with the simplest kind of linear regression, in which there is only one input variable. In other words $\\vec{x}$ and $\\vec{w}$ are scalars and the mean square error is \n",
    "$$ L(w,a) = \\frac{1}{n}\\sum_{i=1}^n (w x_i +a - y_i)^2 $$"
   ]
  },
  {
   "cell_type": "code",
   "execution_count": 5,
   "metadata": {
    "collapsed": false
   },
   "outputs": [
    {
     "data": {
      "text/plain": [
       "[LabeledPoint(0.0, [0.0]),\n",
       " LabeledPoint(1.0, [1.0]),\n",
       " LabeledPoint(2.0, [2.0]),\n",
       " LabeledPoint(4.0, [3.0])]"
      ]
     },
     "execution_count": 5,
     "metadata": {},
     "output_type": "execute_result"
    }
   ],
   "source": [
    "from pyspark.mllib.regression import LabeledPoint\n",
    "x=[0,1,2,3]\n",
    "y=[0,1,2,4]\n",
    "data = [ LabeledPoint(y[i],[x[i]]) for i in range(len(x))]\n",
    "data"
   ]
  },
  {
   "cell_type": "code",
   "execution_count": 17,
   "metadata": {
    "collapsed": false
   },
   "outputs": [],
   "source": [
    "lrm = LinearRegressionWithSGD.train(sc.parallelize(data), iterations=100, ## Data here must be in type of LabeledPoint\n",
    "        intercept=True,initialWeights=np.array([1.0]))"
   ]
  },
  {
   "cell_type": "code",
   "execution_count": 7,
   "metadata": {
    "collapsed": false
   },
   "outputs": [
    {
     "data": {
      "text/plain": [
       "(weights=[1.28844671071], intercept=-0.1753332466134248)"
      ]
     },
     "execution_count": 7,
     "metadata": {},
     "output_type": "execute_result"
    }
   ],
   "source": [
    "slope=lrm.weights\n",
    "intercept=lrm.intercept\n",
    "lrm"
   ]
  },
  {
   "cell_type": "code",
   "execution_count": 19,
   "metadata": {
    "collapsed": false
   },
   "outputs": [
    {
     "data": {
      "text/plain": [
       "<matplotlib.legend.Legend at 0x10de2edd0>"
      ]
     },
     "execution_count": 19,
     "metadata": {},
     "output_type": "execute_result"
    },
    {
     "data": {
      "image/png": "[encoded data removed]",
      "text/plain": [
       "<matplotlib.figure.Figure at 0x10dd221d0>"
      ]
     },
     "metadata": {},
     "output_type": "display_data"
    }
   ],
   "source": [
    "plot(x,y,'o')\n",
    "plot(x,y,'r')\n",
    "plot(x,intercept+slope*x,'og')\n",
    "plot(x,intercept+slope*x,'k')\n",
    "legend([\"original points\", \"original\", \"Regreession points\", \"Regression\"], loc=2)"
   ]
  },
  {
   "cell_type": "markdown",
   "metadata": {},
   "source": [
    "#### multiple Regression\n",
    "\n",
    "We now extend to "
   ]
  },
  {
   "cell_type": "code",
   "execution_count": 32,
   "metadata": {
    "collapsed": false
   },
   "outputs": [
    {
     "name": "stdout",
     "output_type": "stream",
     "text": [
      "<class 'pyspark.mllib.regression.LabeledPoint'>\n",
      "(-0.4307829,[-1.63735562648,-2.00621178481,-1.86242597251,-1.02470580167,-0.522940888712,-0.863171185426,-1.04215728919,-0.864466507337]) -0.4307829 [-1.63735562648,-2.00621178481,-1.86242597251,-1.02470580167,-0.522940888712,-0.863171185426,-1.04215728919,-0.864466507337]\n",
      "number of examples= 67\n",
      "number of input features= 8\n"
     ]
    }
   ],
   "source": [
    "# Load and parse the data\n",
    "def parsePoint(line):\n",
    "    values = [float(x) for x in line.replace(',', ' ').split(' ')]\n",
    "    return LabeledPoint(values[0], values[1:])\n",
    "\n",
    "data2 = sc.textFile(\"../../Data/regression/lpsa.data\")\n",
    "parsedData = data2.map(parsePoint)\n",
    "print type(parsedData.first()) ## This is a labeledPoint, and therefore values[0] is label, and the rest are the features\n",
    "print 'number of examples=',parsedData.count()\n",
    "print 'number of input features=',len(parsedData.first().features)"
   ]
  },
  {
   "cell_type": "code",
   "execution_count": 33,
   "metadata": {
    "collapsed": false
   },
   "outputs": [
    {
     "name": "stdout",
     "output_type": "stream",
     "text": [
      "(weights=[0.415795930868,0.266721498546,0.0100957989428,0.179765721365,0.272685132073,0.0136603829393,-0.00393003220158,0.170863489408], intercept=2.2483935484343074)\n",
      "Mean Squared Error = 0.537072978047\n"
     ]
    }
   ],
   "source": [
    "# Build the model\n",
    "model =LinearRegressionWithSGD.train(parsedData, iterations=1000, step=0.1,intercept=True,\n",
    "                                     initialWeights=np.ones(8)*0.1)\n",
    "\n",
    "print model\n",
    "model\n",
    "# Evaluate the model on training data\n",
    "valuesAndPreds = parsedData.map(lambda p: (p.label, model.predict(p.features)))\n",
    "#valuesAndPreds.take(10)\n",
    "\n",
    "MSE = valuesAndPreds.map(lambda (v, p): (v - p)**2).reduce(lambda x, y: x + y) / valuesAndPreds.count()\n",
    "print(\"Mean Squared Error = \" + str(MSE))\n",
    "\n",
    "\n",
    "#Save and load model\n",
    "#model.save(sc, \"myModelPath\")\n",
    "#sameModel = LinearRegressionModel.load(sc, \"myModelPath\")"
   ]
  },
  {
   "cell_type": "code",
   "execution_count": 34,
   "metadata": {
    "collapsed": false
   },
   "outputs": [
    {
     "data": {
      "text/plain": [
       "[LabeledPoint(1.0, [1.0,1.0,1.0,1.0]),\n",
       " LabeledPoint(2.0, [1.0,2.0,4.0,8.0]),\n",
       " LabeledPoint(4.0, [1.0,3.0,9.0,27.0]),\n",
       " LabeledPoint(4.0, [1.0,4.0,16.0,64.0])]"
      ]
     },
     "execution_count": 34,
     "metadata": {},
     "output_type": "execute_result"
    }
   ],
   "source": [
    "## from pyspark.mllib.regression import LabeledPoint\n",
    "x=[1,2,3,4];\n",
    "y=[1,2,4,4];\n",
    "data = sc.parallelize([LabeledPoint(y[i],[1,x[i],x[i]**2,x[i]**3]) for i in range(len(x))])\n",
    "data.collect()"
   ]
  },
  {
   "cell_type": "code",
   "execution_count": 35,
   "metadata": {
    "collapsed": false
   },
   "outputs": [
    {
     "name": "stdout",
     "output_type": "stream",
     "text": [
      "(weights=[0.0121671523301,1.03360961094,0.0619324678986,-0.0133369985531], intercept=0.0)\n",
      "0.153455956091\n"
     ]
    }
   ],
   "source": [
    "lrm = RidgeRegressionWithSGD.train(data, iterations=400, step=0.01,\n",
    "        intercept=False,initialWeights=np.array([0,1,0,0]),regParam=0.001)\n",
    "\n",
    "w0,w1,w2,w3=lrm.weights\n",
    "intercept=lrm.intercept\n",
    "\n",
    "print lrm\n",
    "valuesAndPreds = data.map(lambda p: (p.label, lrm.predict(p.features)))\n",
    "MSE=valuesAndPreds.map(lambda (v, p): (v - p)**2).reduce(lambda x, y: x + y) / valuesAndPreds.count()\n",
    "print MSE"
   ]
  },
  {
   "cell_type": "code",
   "execution_count": 38,
   "metadata": {
    "collapsed": false
   },
   "outputs": [
    {
     "name": "stdout",
     "output_type": "stream",
     "text": [
      "[ 1.   1.1  1.2  1.3  1.4  1.5  1.6  1.7  1.8  1.9]\n"
     ]
    }
   ],
   "source": [
    "xRange=arange(x[0],x[1],0.1)\n",
    "print xRange\n",
    "yhat=[intercept+w1*xx+w2*xx*2 for xx in xRange]"
   ]
  },
  {
   "cell_type": "code",
   "execution_count": 41,
   "metadata": {
    "collapsed": false
   },
   "outputs": [
    {
     "name": "stdout",
     "output_type": "stream",
     "text": [
      "[-0.5  3.5 -6.   4. ]\n",
      "      3       2\n",
      "-0.5 x + 3.5 x - 6 x + 4 <class 'numpy.lib.polynomial.poly1d'>\n"
     ]
    }
   ],
   "source": [
    "from numpy import polyfit ## Polyfit minimized the squared error\n",
    "weights=polyfit(np.array(x),np.array(y),3)\n",
    "print weights\n",
    "p = np.poly1d(weights)\n",
    "print p, type(p)"
   ]
  },
  {
   "cell_type": "code",
   "execution_count": 42,
   "metadata": {
    "collapsed": false
   },
   "outputs": [
    {
     "name": "stdout",
     "output_type": "stream",
     "text": [
      "[ 1.    1.01  1.02  1.03  1.04  1.05  1.06  1.07  1.08  1.09  1.1   1.11\n",
      "  1.12  1.13  1.14  1.15  1.16  1.17  1.18  1.19  1.2   1.21  1.22  1.23\n",
      "  1.24  1.25  1.26  1.27  1.28  1.29  1.3   1.31  1.32  1.33  1.34  1.35\n",
      "  1.36  1.37  1.38  1.39  1.4   1.41  1.42  1.43  1.44  1.45  1.46  1.47\n",
      "  1.48  1.49  1.5   1.51  1.52  1.53  1.54  1.55  1.56  1.57  1.58  1.59\n",
      "  1.6   1.61  1.62  1.63  1.64  1.65  1.66  1.67  1.68  1.69  1.7   1.71\n",
      "  1.72  1.73  1.74  1.75  1.76  1.77  1.78  1.79  1.8   1.81  1.82  1.83\n",
      "  1.84  1.85  1.86  1.87  1.88  1.89  1.9   1.91  1.92  1.93  1.94  1.95\n",
      "  1.96  1.97  1.98  1.99  2.    2.01  2.02  2.03  2.04  2.05  2.06  2.07\n",
      "  2.08  2.09  2.1   2.11  2.12  2.13  2.14  2.15  2.16  2.17  2.18  2.19\n",
      "  2.2   2.21  2.22  2.23  2.24  2.25  2.26  2.27  2.28  2.29  2.3   2.31\n",
      "  2.32  2.33  2.34  2.35  2.36  2.37  2.38  2.39  2.4   2.41  2.42  2.43\n",
      "  2.44  2.45  2.46  2.47  2.48  2.49  2.5   2.51  2.52  2.53  2.54  2.55\n",
      "  2.56  2.57  2.58  2.59  2.6   2.61  2.62  2.63  2.64  2.65  2.66  2.67\n",
      "  2.68  2.69  2.7   2.71  2.72  2.73  2.74  2.75  2.76  2.77  2.78  2.79\n",
      "  2.8   2.81  2.82  2.83  2.84  2.85  2.86  2.87  2.88  2.89  2.9   2.91\n",
      "  2.92  2.93  2.94  2.95  2.96  2.97  2.98  2.99  3.    3.01  3.02  3.03\n",
      "  3.04  3.05  3.06  3.07  3.08  3.09  3.1   3.11  3.12  3.13  3.14  3.15\n",
      "  3.16  3.17  3.18  3.19  3.2   3.21  3.22  3.23  3.24  3.25  3.26  3.27\n",
      "  3.28  3.29  3.3   3.31  3.32  3.33  3.34  3.35  3.36  3.37  3.38  3.39\n",
      "  3.4   3.41  3.42  3.43  3.44  3.45  3.46  3.47  3.48  3.49  3.5   3.51\n",
      "  3.52  3.53  3.54  3.55  3.56  3.57  3.58  3.59  3.6   3.61  3.62  3.63\n",
      "  3.64  3.65  3.66  3.67  3.68  3.69  3.7   3.71  3.72  3.73  3.74  3.75\n",
      "  3.76  3.77  3.78  3.79  3.8   3.81  3.82  3.83  3.84  3.85  3.86  3.87\n",
      "  3.88  3.89  3.9   3.91  3.92  3.93  3.94  3.95  3.96  3.97  3.98  3.99]\n"
     ]
    }
   ],
   "source": [
    "xx=arange(min(x),max(x),0.01)\n",
    "print xx"
   ]
  },
  {
   "cell_type": "code",
   "execution_count": 43,
   "metadata": {
    "collapsed": false
   },
   "outputs": [
    {
     "name": "stdout",
     "output_type": "stream",
     "text": [
      "x= 1 p(x)= 1.0\n",
      "x= 2 p(x)= 2.0\n",
      "x= 3 p(x)= 4.0\n",
      "x= 4 p(x)= 4.0\n"
     ]
    }
   ],
   "source": [
    "for xp in x:\n",
    "    print 'x=',xp, 'p(x)=',p(xp)"
   ]
  },
  {
   "cell_type": "code",
   "execution_count": 44,
   "metadata": {
    "collapsed": false
   },
   "outputs": [
    {
     "data": {
      "text/plain": [
       "[<matplotlib.lines.Line2D at 0x10e02d610>]"
      ]
     },
     "execution_count": 44,
     "metadata": {},
     "output_type": "execute_result"
    },
    {
     "data": {
      "image/png": "[encoded data removed]",
      "text/plain": [
       "<matplotlib.figure.Figure at 0x10dcc07d0>"
      ]
     },
     "metadata": {},
     "output_type": "display_data"
    }
   ],
   "source": [
    "plot(xx,p(xx))\n",
    "plot(x,y,'o')\n",
    "plot(x,y,'r')"
   ]
  },
  {
   "cell_type": "code",
   "execution_count": 45,
   "metadata": {
    "collapsed": false
   },
   "outputs": [
    {
     "data": {
      "text/plain": [
       "[-0.49999999999999728,\n",
       " 3.569999999999987,\n",
       " -6.2424000000000044,\n",
       " 4.2448320000000326]"
      ]
     },
     "execution_count": 45,
     "metadata": {},
     "output_type": "execute_result"
    }
   ],
   "source": [
    "[weights[j]*xx[2]**j for j in range(len(weights))]"
   ]
  },
  {
   "cell_type": "code",
   "execution_count": 46,
   "metadata": {
    "collapsed": false
   },
   "outputs": [
    {
     "data": {
      "text/plain": [
       "([1, 2, 3, 4], [1, 2, 4, 4])"
      ]
     },
     "execution_count": 46,
     "metadata": {},
     "output_type": "execute_result"
    }
   ],
   "source": [
    "x,y"
   ]
  }
 ],
 "metadata": {
  "kernelspec": {
   "display_name": "Python 2",
   "language": "python",
   "name": "python2"
  },
  "language_info": {
   "codemirror_mode": {
    "name": "ipython",
    "version": 2
   },
   "file_extension": ".py",
   "mimetype": "text/x-python",
   "name": "python",
   "nbconvert_exporter": "python",
   "pygments_lexer": "ipython2",
   "version": "2.7.11"
  }
 },
 "nbformat": 4,
 "nbformat_minor": 0
}
