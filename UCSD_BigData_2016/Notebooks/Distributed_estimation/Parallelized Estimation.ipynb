{
 "cells": [
  {
   "cell_type": "markdown",
   "metadata": {},
   "source": [
    "# Finished!"
   ]
  },
  {
   "cell_type": "code",
   "execution_count": 2,
   "metadata": {
    "collapsed": false
   },
   "outputs": [],
   "source": [
    "from numpy.random import rand\n",
    "from numpy import transpose\n",
    "import numpy as np\n",
    "from time import time"
   ]
  },
  {
   "cell_type": "code",
   "execution_count": 3,
   "metadata": {
    "collapsed": false
   },
   "outputs": [
    {
     "data": {
      "text/plain": [
       "array([[ 0.02120914,  0.59299567,  0.48529874],\n",
       "       [ 0.19291083,  0.88036179,  0.4108865 ]])"
      ]
     },
     "execution_count": 3,
     "metadata": {},
     "output_type": "execute_result"
    }
   ],
   "source": [
    "rand(2,3)"
   ]
  },
  {
   "cell_type": "code",
   "execution_count": 8,
   "metadata": {
    "collapsed": false
   },
   "outputs": [],
   "source": [
    "def gen_random(Params):\n",
    "    \"\"\"generate a numpy binary matrix where row i is IID binary \n",
    "    with probability P[i] and has length n\"\"\"\n",
    "    P,n=Params\n",
    "    m=P.shape[0]\n",
    "    R=rand(m,n)\n",
    "    B=1*(R<P)\n",
    "    return B"
   ]
  },
  {
   "cell_type": "code",
   "execution_count": 9,
   "metadata": {
    "collapsed": false
   },
   "outputs": [
    {
     "name": "stdout",
     "output_type": "stream",
     "text": [
      "[[ 0.4]\n",
      " [ 0.5]\n",
      " [ 0.6]]\n"
     ]
    }
   ],
   "source": [
    "n=10\n",
    "P=np.array([np.arange(0.4,0.61,0.1),]).transpose()\n",
    "print P\n",
    "B=gen_random((P,n))\n"
   ]
  },
  {
   "cell_type": "code",
   "execution_count": 10,
   "metadata": {
    "collapsed": false
   },
   "outputs": [
    {
     "data": {
      "text/plain": [
       "array([[0, 1, 0, 0, 0, 0, 0, 0, 0, 1],\n",
       "       [0, 1, 0, 0, 0, 1, 1, 1, 0, 1],\n",
       "       [0, 0, 1, 0, 0, 0, 1, 1, 1, 1]])"
      ]
     },
     "execution_count": 10,
     "metadata": {},
     "output_type": "execute_result"
    }
   ],
   "source": [
    "B"
   ]
  },
  {
   "cell_type": "code",
   "execution_count": 11,
   "metadata": {
    "collapsed": false
   },
   "outputs": [
    {
     "name": "stdout",
     "output_type": "stream",
     "text": [
      "[[ 0.4 ]\n",
      " [ 0.41]\n",
      " [ 0.42]\n",
      " [ 0.43]\n",
      " [ 0.44]\n",
      " [ 0.45]\n",
      " [ 0.46]\n",
      " [ 0.47]\n",
      " [ 0.48]\n",
      " [ 0.49]\n",
      " [ 0.5 ]\n",
      " [ 0.51]\n",
      " [ 0.52]\n",
      " [ 0.53]\n",
      " [ 0.54]\n",
      " [ 0.55]\n",
      " [ 0.56]\n",
      " [ 0.57]\n",
      " [ 0.58]\n",
      " [ 0.59]\n",
      " [ 0.6 ]]\n"
     ]
    }
   ],
   "source": [
    "# define the P[i]'s to in the range from 0.4 to 0.6\n",
    "P=np.array([np.arange(0.4,0.61,0.01),]).transpose()\n",
    "n=100000\n",
    "print P\n",
    "#[(P,n)]*10"
   ]
  },
  {
   "cell_type": "code",
   "execution_count": 14,
   "metadata": {
    "collapsed": false
   },
   "outputs": [
    {
     "name": "stdout",
     "output_type": "stream",
     "text": [
      "2\n",
      "0.0202369689941\n",
      "[(array([[ 0.4 ],\n",
      "       [ 0.41],\n",
      "       [ 0.42],\n",
      "       [ 0.43],\n",
      "       [ 0.44],\n",
      "       [ 0.45],\n",
      "       [ 0.46],\n",
      "       [ 0.47],\n",
      "       [ 0.48],\n",
      "       [ 0.49],\n",
      "       [ 0.5 ],\n",
      "       [ 0.51],\n",
      "       [ 0.52],\n",
      "       [ 0.53],\n",
      "       [ 0.54],\n",
      "       [ 0.55],\n",
      "       [ 0.56],\n",
      "       [ 0.57],\n",
      "       [ 0.58],\n",
      "       [ 0.59],\n",
      "       [ 0.6 ]]), 100000), (array([[ 0.4 ],\n",
      "       [ 0.41],\n",
      "       [ 0.42],\n",
      "       [ 0.43],\n",
      "       [ 0.44],\n",
      "       [ 0.45],\n",
      "       [ 0.46],\n",
      "       [ 0.47],\n",
      "       [ 0.48],\n",
      "       [ 0.49],\n",
      "       [ 0.5 ],\n",
      "       [ 0.51],\n",
      "       [ 0.52],\n",
      "       [ 0.53],\n",
      "       [ 0.54],\n",
      "       [ 0.55],\n",
      "       [ 0.56],\n",
      "       [ 0.57],\n",
      "       [ 0.58],\n",
      "       [ 0.59],\n",
      "       [ 0.6 ]]), 100000)]\n"
     ]
    }
   ],
   "source": [
    "start=time()\n",
    "Params=sc.parallelize([(P,n)]*2).repartition(2)\n",
    "print Params.getNumPartitions()\n",
    "print time()-start\n",
    "print Params.take(5)"
   ]
  },
  {
   "cell_type": "code",
   "execution_count": 15,
   "metadata": {
    "collapsed": false
   },
   "outputs": [
    {
     "name": "stdout",
     "output_type": "stream",
     "text": [
      "2\n",
      "time= 0.575860023499\n"
     ]
    }
   ],
   "source": [
    "start=time()\n",
    "B=Params.map(gen_random).cache()\n",
    "print B.count()\n",
    "print 'time=',time()-start"
   ]
  },
  {
   "cell_type": "code",
   "execution_count": 18,
   "metadata": {
    "collapsed": false
   },
   "outputs": [],
   "source": [
    "i=0\n",
    "j=1000\n",
    "def Count(B):\n",
    "    return B[:,i:j].sum(axis=1) ##Count the num of `1s` in each row of B matrix\n",
    "    "
   ]
  },
  {
   "cell_type": "code",
   "execution_count": 25,
   "metadata": {
    "collapsed": false
   },
   "outputs": [
    {
     "name": "stdout",
     "output_type": "stream",
     "text": [
      "time= 0.162833929062\n"
     ]
    }
   ],
   "source": [
    "j=n/10\n",
    "start=time()\n",
    "O=B.map(Count).collect()\n",
    "print 'time=',time()-start"
   ]
  },
  {
   "cell_type": "code",
   "execution_count": 27,
   "metadata": {
    "collapsed": false
   },
   "outputs": [
    {
     "name": "stdout",
     "output_type": "stream",
     "text": [
      "(2, 21)\n"
     ]
    },
    {
     "data": {
      "text/plain": [
       "(2, 21)"
      ]
     },
     "execution_count": 27,
     "metadata": {},
     "output_type": "execute_result"
    }
   ],
   "source": [
    "print O.shape\n",
    "O=np.stack(O)\n",
    "O.shape"
   ]
  },
  {
   "cell_type": "code",
   "execution_count": 28,
   "metadata": {
    "collapsed": false
   },
   "outputs": [
    {
     "data": {
      "text/plain": [
       "array([[4033, 4130, 4215, 4333, 4405, 4544, 4575, 4664, 4792, 4823, 5029,\n",
       "        5085, 5163, 5268, 5438, 5556, 5582, 5714, 5785, 5895, 6033],\n",
       "       [3924, 4056, 4158, 4250, 4430, 4510, 4660, 4614, 4865, 4940, 5035,\n",
       "        5027, 5251, 5300, 5448, 5504, 5547, 5686, 5788, 5875, 5909]])"
      ]
     },
     "execution_count": 28,
     "metadata": {},
     "output_type": "execute_result"
    }
   ],
   "source": [
    "O ### Should be close to "
   ]
  },
  {
   "cell_type": "code",
   "execution_count": 30,
   "metadata": {
    "collapsed": false
   },
   "outputs": [
    {
     "name": "stdout",
     "output_type": "stream",
     "text": [
      "10000\n"
     ]
    },
    {
     "data": {
      "text/plain": [
       "array([[False, False, False, False, False, False, False, False, False,\n",
       "        False,  True,  True,  True,  True,  True,  True,  True,  True,\n",
       "         True,  True,  True],\n",
       "       [False, False, False, False, False, False, False, False, False,\n",
       "        False,  True,  True,  True,  True,  True,  True,  True,  True,\n",
       "         True,  True,  True]], dtype=bool)"
      ]
     },
     "execution_count": 30,
     "metadata": {},
     "output_type": "execute_result"
    }
   ],
   "source": [
    "\n",
    "O>(j/2)"
   ]
  },
  {
   "cell_type": "code",
   "execution_count": null,
   "metadata": {
    "collapsed": true
   },
   "outputs": [],
   "source": []
  }
 ],
 "metadata": {
  "kernelspec": {
   "display_name": "Python 2",
   "language": "python",
   "name": "python2"
  },
  "language_info": {
   "codemirror_mode": {
    "name": "ipython",
    "version": 2
   },
   "file_extension": ".py",
   "mimetype": "text/x-python",
   "name": "python",
   "nbconvert_exporter": "python",
   "pygments_lexer": "ipython2",
   "version": "2.7.11"
  }
 },
 "nbformat": 4,
 "nbformat_minor": 0
}
